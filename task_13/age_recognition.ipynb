{
 "cells": [
  {
   "cell_type": "code",
   "execution_count": 9,
   "metadata": {
    "collapsed": true
   },
   "outputs": [
    {
     "name": "stdout",
     "output_type": "stream",
     "text": [
      "1/1 [==============================] - 0s 198ms/step\n",
      "1/1 [==============================] - 0s 165ms/step\n",
      "1/1 [==============================] - 0s 44ms/step\n",
      "1/1 [==============================] - 0s 38ms/step\n",
      "1/1 [==============================] - 0s 31ms/step\n",
      "1/1 [==============================] - 0s 31ms/step\n",
      "1/1 [==============================] - 0s 75ms/step\n",
      "1/1 [==============================] - 0s 32ms/step\n",
      "1/1 [==============================] - 0s 54ms/step\n",
      "1/1 [==============================] - 0s 39ms/step\n",
      "3/3 [==============================] - 0s 8ms/step\n",
      "1/1 [==============================] - 0s 269ms/step\n",
      "1/1 [==============================] - 0s 399ms/step\n"
     ]
    }
   ],
   "source": [
    "import cv2 as cv\n",
    "from mtcnn import MTCNN\n",
    "from deepface import DeepFace\n",
    "import os\n",
    "\n",
    "detector = MTCNN()\n",
    "\n",
    "\n",
    "def detect_faces(img):\n",
    "    result = detector.detect_faces(img)\n",
    "    faces = list()\n",
    "    bounding_boxes = list()\n",
    "    for i in range(len(result)):\n",
    "        bounding_box = result[i]['box']\n",
    "        faces.append(\n",
    "            img[bounding_box[1]: bounding_box[1] + bounding_box[3], bounding_box[0]:bounding_box[0] + bounding_box[2]])\n",
    "        bounding_boxes.append(bounding_box)\n",
    "    return faces, bounding_boxes\n",
    "\n",
    "\n",
    "def age_recognition(img_path):\n",
    "    img = cv.imread(img_path)\n",
    "    img_2 = cv.cvtColor(img, cv.COLOR_BGR2RGB)\n",
    "    faces, bound = detect_faces(img_2)\n",
    "    paths_of_saved_images = list()\n",
    "    for i in range(len(faces)):\n",
    "        paths_of_saved_images.append(\"face\" + str(i) + \".jpg\")\n",
    "        cv.imwrite(paths_of_saved_images[i], faces[i])\n",
    "    analyzed_faces = list()\n",
    "    text = 30\n",
    "    for i in range(len(paths_of_saved_images)):\n",
    "        text_movement = text\n",
    "        analyzed_faces.append(\n",
    "            DeepFace.analyze(img_path=paths_of_saved_images[i], enforce_detection=False, actions=('age',)))\n",
    "        bounding_box = bound[i]\n",
    "        cv.rectangle(img, (bounding_box[0], bounding_box[1]),\n",
    "                     (bounding_box[0] + bounding_box[2], bounding_box[1] + bounding_box[3]), (0, 255, 0),\n",
    "                     2)\n",
    "\n",
    "        cv.putText(img, (\"Age:\" + str(analyzed_faces[i]['age'])),\n",
    "                   (bounding_box[0] + 10, bounding_box[1] + text_movement),\n",
    "                   cv.FONT_HERSHEY_SIMPLEX, 1, (0, 255, 0), 1, cv.LINE_AA)\n",
    "        text_movement += text\n",
    "\n",
    "    for i in range(len(paths_of_saved_images)):\n",
    "        os.remove(paths_of_saved_images[i])\n",
    "    cv.imshow(\"Pic\", img)\n",
    "\n",
    "\n",
    "age_recognition('girl.jpg')\n",
    "cv.waitKey(0)\n",
    "cv.destroyAllWindows()"
   ]
  }
 ],
 "metadata": {
  "kernelspec": {
   "display_name": "Python 3",
   "language": "python",
   "name": "python3"
  },
  "language_info": {
   "codemirror_mode": {
    "name": "ipython",
    "version": 2
   },
   "file_extension": ".py",
   "mimetype": "text/x-python",
   "name": "python",
   "nbconvert_exporter": "python",
   "pygments_lexer": "ipython2",
   "version": "2.7.6"
  }
 },
 "nbformat": 4,
 "nbformat_minor": 0
}
