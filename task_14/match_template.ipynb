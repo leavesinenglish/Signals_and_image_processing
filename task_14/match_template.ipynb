{
 "cells": [
  {
   "cell_type": "code",
   "execution_count": 6,
   "metadata": {
    "collapsed": true
   },
   "outputs": [],
   "source": [
    "import cv2 as cv\n",
    "import numpy as np\n",
    "import random"
   ]
  },
  {
   "cell_type": "code",
   "execution_count": 7,
   "outputs": [],
   "source": [
    "img = cv.imread(\"img.png\")\n",
    "img = cv.resize(img, (int(img.shape[1] * 0.6), int(img.shape[0] * 0.6)))\n",
    "template = cv.imread(\"template.png\")\n",
    "template = cv.resize(template, (int(template.shape[1] * 0.6), int(template.shape[0] * 0.6)))"
   ],
   "metadata": {
    "collapsed": false
   }
  },
  {
   "cell_type": "code",
   "execution_count": 8,
   "outputs": [],
   "source": [
    "noise = 0\n",
    "noise_changed = False\n",
    "result_of_ch = np.copy(img)\n",
    "result_of_matching = np.copy(img)\n",
    "rotated_img = np.copy(img)\n",
    "bright_size = 10\n",
    "contrast_size = 10\n",
    "angle_size = 0.0\n",
    "scale_size = 1.0\n",
    "point_list=list()\n",
    "point_list.append((0, 0))\n",
    "point_list.append((img.shape[1], 0))\n",
    "point_list.append((img.shape[1], img.shape[0]))\n",
    "point_list.append((0, img.shape[0]))\n",
    "point_for_change = 0"
   ],
   "metadata": {
    "collapsed": false
   }
  },
  {
   "cell_type": "code",
   "execution_count": 9,
   "outputs": [],
   "source": [
    "def update():\n",
    "    global noise\n",
    "    global noise_changed\n",
    "    global result_of_ch\n",
    "    global rotated_img\n",
    "    global result_of_matching\n",
    "    height, width = img.shape[:2]\n",
    "    center = (width / 2, height / 2)\n",
    "    if noise_changed:\n",
    "        img_tmp = np.float64(img)\n",
    "        noise_pic = np.copy(img_tmp)\n",
    "        for i in range(img_tmp.shape[0]):\n",
    "            for j in range(img_tmp.shape[1]):\n",
    "                noise_val = random.randint(-noise, noise)\n",
    "                noise_pic[i][j] = img_tmp[i][j] + noise_val\n",
    "        result_of_ch = np.uint8(np.clip(noise_pic, 0, 255))\n",
    "        noise_changed = False\n",
    "    rotated_img = result_of_ch.copy()\n",
    "    change_brightness(bright_size)\n",
    "    change_contrast(contrast_size)\n",
    "    rotate_matrix = cv.getRotationMatrix2D(center, angle_size, scale_size)\n",
    "    rotated_img = cv.warpAffine(rotated_img, rotate_matrix, (width, height))\n",
    "    matrix = cv.getPerspectiveTransform( np.float32([[0, 0], [img.shape[1], 0], [img.shape[1], img.shape[0]], [0, img.shape[0]]]), \\\n",
    "         np.float32(point_list))\n",
    "    rotated_img = cv.warpPerspective(rotated_img, matrix, (img.shape[1], img.shape[0]), cv.INTER_CUBIC, borderMode = cv.BORDER_CONSTANT, borderValue = (0, 0, 0))\n",
    "\n",
    "    imageGray = cv.cvtColor(rotated_img, cv.COLOR_BGR2GRAY)\n",
    "    templateGray = cv.cvtColor(template, cv.COLOR_BGR2GRAY)\n",
    "    result = cv.matchTemplate(imageGray, templateGray, cv.TM_CCOEFF_NORMED)\n",
    "    (minVal, maxVal, minLoc, maxLoc) = cv.minMaxLoc(result)\n",
    "    (startX, startY) = maxLoc\n",
    "    endX = startX + template.shape[1]\n",
    "    endY = startY + template.shape[0]\n",
    "    result_of_matching = cv.rectangle(rotated_img, (startX, startY), (endX, endY), (255, 0, 0), 3)\n",
    "    cv.imshow(\"result\", result_of_matching)\n",
    "\n",
    "def change_noise(val):\n",
    "    global noise\n",
    "    global noise_changed\n",
    "    noise_changed = True\n",
    "    noise = val\n",
    "    update()\n",
    "\n",
    "def change_brightness( brightness):\n",
    "    global rotated_img\n",
    "    if brightness != 0:\n",
    "        rotated_img = cv.addWeighted(rotated_img, (255 - brightness) / 255, rotated_img, 0, brightness)\n",
    "\n",
    "def change_contrast(contrast):\n",
    "    global rotated_img\n",
    "    if contrast != 0:\n",
    "        f = 131 * (contrast + 127) / (127 * (131 - contrast))\n",
    "        rotated_img = cv.addWeighted(rotated_img, f, rotated_img, 0, 127 * (1 - f))\n",
    "\n",
    "\n",
    "def change_brightness_size(val):\n",
    "    global bright_size\n",
    "    bright_size = val\n",
    "    update()\n",
    "\n",
    "\n",
    "def change_contrast_size(val):\n",
    "    global contrast_size\n",
    "    contrast_size = val\n",
    "    update()\n",
    "\n",
    "\n",
    "def change_rotate_angle(val):\n",
    "    global angle_size\n",
    "    angle_size = val\n",
    "    update()\n",
    "\n",
    "\n",
    "def change_rotate_scale(val):\n",
    "    global scale_size\n",
    "    if val > 0:\n",
    "        scale_size = val / 10.0\n",
    "        update()\n",
    "\n",
    "\n",
    "def change_point_for_changing(val):\n",
    "    global point_for_change\n",
    "    point_for_change = val\n",
    "\n",
    "\n",
    "def change_point_x_val(val):\n",
    "    global point_list\n",
    "    _, old_y = point_list[point_for_change]\n",
    "    point_list[point_for_change] = (val, old_y)\n",
    "    update()\n",
    "\n",
    "\n",
    "def change_point_y_val(val):\n",
    "    global point_list\n",
    "    old_x, _ = point_list[point_for_change]\n",
    "    point_list[point_for_change] = (old_x, val)\n",
    "    update()"
   ],
   "metadata": {
    "collapsed": false
   }
  },
  {
   "cell_type": "code",
   "execution_count": 10,
   "outputs": [],
   "source": [
    "cv.namedWindow('Control')\n",
    "cv.createTrackbar('noise', 'Control', 0, 255, change_noise)\n",
    "cv.createTrackbar('contrast', 'Control', 0, 128, change_contrast_size)\n",
    "cv.createTrackbar('brightness', 'Control', 0, 255, change_brightness_size)\n",
    "cv.createTrackbar('Angle', 'Control', 0, 90, change_rotate_angle)\n",
    "cv.createTrackbar('Scale', 'Control', 10, 100, change_rotate_scale)\n",
    "cv.createTrackbar('Point', 'Control', 0, 3, change_point_for_changing)\n",
    "cv.createTrackbar('X', 'Control', 0, img.shape[1] - 1, change_point_x_val)\n",
    "cv.createTrackbar('Y', 'Control', 0, img.shape[0] - 1, change_point_y_val)\n",
    "cv.waitKey(0)\n",
    "cv.destroyAllWindows()"
   ],
   "metadata": {
    "collapsed": false
   }
  }
 ],
 "metadata": {
  "kernelspec": {
   "display_name": "Python 3",
   "language": "python",
   "name": "python3"
  },
  "language_info": {
   "codemirror_mode": {
    "name": "ipython",
    "version": 2
   },
   "file_extension": ".py",
   "mimetype": "text/x-python",
   "name": "python",
   "nbconvert_exporter": "python",
   "pygments_lexer": "ipython2",
   "version": "2.7.6"
  }
 },
 "nbformat": 4,
 "nbformat_minor": 0
}
