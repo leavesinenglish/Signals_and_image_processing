{
 "cells": [
  {
   "cell_type": "code",
   "execution_count": 1,
   "outputs": [],
   "source": [
    "import numpy as np\n",
    "import cv2"
   ],
   "metadata": {
    "collapsed": false
   }
  },
  {
   "cell_type": "code",
   "execution_count": 2,
   "outputs": [],
   "source": [
    "low_threshold = 0\n",
    "iteration_num = 5\n",
    "src = cv2.imread('img.png')\n",
    "\n",
    "def update():\n",
    "\timg = src.copy()\n",
    "\tgray_img = cv2.cvtColor(img, cv2.COLOR_BGR2GRAY)\n",
    "\t_, thresh = cv2.threshold(gray_img, low_threshold, 255, cv2.THRESH_BINARY_INV + cv2.THRESH_OTSU)\n",
    "\tkernel = np.ones((3, 3), np.uint8)\n",
    "\tsure_bg = cv2.dilate(thresh, kernel, iterations=iteration_num)\n",
    "\tdist_transform = cv2.distanceTransform(sure_bg, 1, 5)\n",
    "\tdist_transform = np.uint8(dist_transform)\n",
    "\t_, sure_fg = cv2.threshold(dist_transform, low_threshold, 255, 0)\n",
    "\tsure_fg = np.uint8(sure_fg)\n",
    "\tunknown = cv2.subtract(sure_bg, sure_fg)\n",
    "\t_, markers = cv2.connectedComponents(sure_fg)\n",
    "\tmarkers = markers + 1\n",
    "\tmarkers[unknown == 255] = 0\n",
    "\tmarkers = cv2.watershed(img, markers)\n",
    "\timg[markers == -1] = (0, 0, 255)\n",
    "\tcv2.imshow(\"img\", img)\n",
    "\n",
    "def change_low_threshold(val):\n",
    "\tglobal low_threshold\n",
    "\tlow_threshold = val\n",
    "\tupdate()\n",
    "\n",
    "\n",
    "def change_iteration_num(val):\n",
    "\tglobal iteration_num\n",
    "\titeration_num = val\n",
    "\tupdate()\n",
    "\n",
    "cv2.namedWindow('Settings')\n",
    "cv2.createTrackbar('threshold', 'Settings', 20, 255, change_low_threshold)\n",
    "cv2.createTrackbar('iterations', 'Settings', 5, 100, change_iteration_num)\n",
    "cv2.waitKey(0)\n",
    "cv2.destroyAllWindows()"
   ],
   "metadata": {
    "collapsed": false
   }
  }
 ],
 "metadata": {
  "kernelspec": {
   "display_name": "Python 3",
   "language": "python",
   "name": "python3"
  },
  "language_info": {
   "codemirror_mode": {
    "name": "ipython",
    "version": 2
   },
   "file_extension": ".py",
   "mimetype": "text/x-python",
   "name": "python",
   "nbconvert_exporter": "python",
   "pygments_lexer": "ipython2",
   "version": "2.7.6"
  }
 },
 "nbformat": 4,
 "nbformat_minor": 0
}
