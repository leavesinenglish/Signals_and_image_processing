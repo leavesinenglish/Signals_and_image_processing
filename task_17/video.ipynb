{
 "cells": [
  {
   "cell_type": "code",
   "execution_count": 1,
   "outputs": [
    {
     "ename": "KeyboardInterrupt",
     "evalue": "",
     "output_type": "error",
     "traceback": [
      "\u001B[1;31m---------------------------------------------------------------------------\u001B[0m",
      "\u001B[1;31mKeyboardInterrupt\u001B[0m                         Traceback (most recent call last)",
      "Cell \u001B[1;32mIn [1], line 18\u001B[0m\n\u001B[0;32m     14\u001B[0m image \u001B[38;5;241m=\u001B[39m imutils\u001B[38;5;241m.\u001B[39mresize(image, width\u001B[38;5;241m=\u001B[39m\u001B[38;5;28mmin\u001B[39m(\u001B[38;5;241m600\u001B[39m, image\u001B[38;5;241m.\u001B[39mshape[\u001B[38;5;241m1\u001B[39m]))\n\u001B[0;32m     15\u001B[0m \u001B[38;5;66;03m# Detecting all the regions\u001B[39;00m\n\u001B[0;32m     16\u001B[0m \u001B[38;5;66;03m# in the Image that has a\u001B[39;00m\n\u001B[0;32m     17\u001B[0m \u001B[38;5;66;03m# pedestrians inside it\u001B[39;00m\n\u001B[1;32m---> 18\u001B[0m (regions, _) \u001B[38;5;241m=\u001B[39m \u001B[43mhog\u001B[49m\u001B[38;5;241;43m.\u001B[39;49m\u001B[43mdetectMultiScale\u001B[49m\u001B[43m(\u001B[49m\u001B[43mimage\u001B[49m\u001B[43m,\u001B[49m\u001B[43m \u001B[49m\u001B[43mwinStride\u001B[49m\u001B[38;5;241;43m=\u001B[39;49m\u001B[43m(\u001B[49m\u001B[38;5;241;43m4\u001B[39;49m\u001B[43m,\u001B[49m\u001B[43m \u001B[49m\u001B[38;5;241;43m4\u001B[39;49m\u001B[43m)\u001B[49m\u001B[43m,\u001B[49m\u001B[43m \u001B[49m\u001B[43mpadding\u001B[49m\u001B[38;5;241;43m=\u001B[39;49m\u001B[43m(\u001B[49m\u001B[38;5;241;43m4\u001B[39;49m\u001B[43m,\u001B[49m\u001B[43m \u001B[49m\u001B[38;5;241;43m4\u001B[39;49m\u001B[43m)\u001B[49m\u001B[43m,\u001B[49m\u001B[43m \u001B[49m\u001B[43mscale\u001B[49m\u001B[38;5;241;43m=\u001B[39;49m\u001B[38;5;241;43m1.05\u001B[39;49m\u001B[43m)\u001B[49m\n\u001B[0;32m     19\u001B[0m \u001B[38;5;66;03m# Drawing the regions in the\u001B[39;00m\n\u001B[0;32m     20\u001B[0m \u001B[38;5;66;03m# Image\u001B[39;00m\n\u001B[0;32m     21\u001B[0m \u001B[38;5;28;01mfor\u001B[39;00m (x, y, w, h) \u001B[38;5;129;01min\u001B[39;00m regions:\n",
      "\u001B[1;31mKeyboardInterrupt\u001B[0m: "
     ]
    }
   ],
   "source": [
    "import cv2\n",
    "import imutils\n",
    "# Initializing the HOG person\n",
    "# detector\n",
    "hog = cv2.HOGDescriptor()\n",
    "hog.setSVMDetector(cv2.HOGDescriptor_getDefaultPeopleDetector())\n",
    "\n",
    "cap = cv2.VideoCapture('istockphoto-661178472-640_adpp_is.mp4')\n",
    "\n",
    "while cap.isOpened():\n",
    "    # Reading the video stream\n",
    "    ret, image = cap.read()\n",
    "    if ret:\n",
    "        image = imutils.resize(image, width=min(600, image.shape[1]))\n",
    "        # Detecting all the regions\n",
    "        # in the Image that has a\n",
    "        # pedestrians inside it\n",
    "        (regions, _) = hog.detectMultiScale(image, winStride=(4, 4), padding=(4, 4), scale=1.05)\n",
    "        # Drawing the regions in the\n",
    "        # Image\n",
    "        for (x, y, w, h) in regions:\n",
    "            cv2.rectangle(image, (x, y), (x + w, y + h), (0, 0, 255), 2)\n",
    "        # Showing the output Image\n",
    "        cv2.imshow(\"Image\", image)\n",
    "        if cv2.waitKey(25) & 0xFF == ord('q'):\n",
    "            break\n",
    "    else:\n",
    "        break\n",
    "\n",
    "cap.release()\n",
    "cv2.destroyAllWindows()"
   ],
   "metadata": {
    "collapsed": false
   }
  }
 ],
 "metadata": {
  "kernelspec": {
   "display_name": "Python 3",
   "language": "python",
   "name": "python3"
  },
  "language_info": {
   "codemirror_mode": {
    "name": "ipython",
    "version": 2
   },
   "file_extension": ".py",
   "mimetype": "text/x-python",
   "name": "python",
   "nbconvert_exporter": "python",
   "pygments_lexer": "ipython2",
   "version": "2.7.6"
  }
 },
 "nbformat": 4,
 "nbformat_minor": 0
}
