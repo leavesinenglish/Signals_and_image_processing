{
 "cells": [
  {
   "cell_type": "code",
   "execution_count": 1,
   "outputs": [],
   "source": [
    "import numpy as np\n",
    "import cv2 as cv"
   ],
   "metadata": {
    "collapsed": false
   }
  },
  {
   "cell_type": "code",
   "execution_count": 2,
   "outputs": [],
   "source": [
    "img = cv.imread('img.png')\n",
    "harris_img = img.copy()\n",
    "shi_tomachi_img = img.copy()\n",
    "transformed_img = img"
   ],
   "metadata": {
    "collapsed": false
   }
  },
  {
   "cell_type": "code",
   "execution_count": 3,
   "outputs": [],
   "source": [
    "brightness = 10\n",
    "contrast_value = 10\n",
    "angle_value = 0.0\n",
    "scale = 1.0\n",
    "\n",
    "marker_size = 2\n",
    "\n",
    "height, width = img.shape[:2]\n",
    "center = (width / 2, height / 2)\n",
    "\n",
    "point_list = list()\n",
    "point_list.append((0, 0))\n",
    "point_list.append((img.shape[1], 0))\n",
    "point_list.append((img.shape[1], img.shape[0]))\n",
    "point_list.append((0, img.shape[0]))\n",
    "point_for_change = 0\n",
    "#Harris\n",
    "block_size = 2\n",
    "sobel_kernel_size = 3\n",
    "free_harris_param = 0.001\n",
    "#Shi-Tomachi\n",
    "corners_count = 80\n",
    "corners_quality = 0.05\n",
    "minimal_distance = 5\n",
    "show_gray_shi = 0"
   ],
   "metadata": {
    "collapsed": false
   }
  },
  {
   "cell_type": "code",
   "execution_count": 4,
   "outputs": [],
   "source": [
    "def update():\n",
    "\tglobal transformed_img\n",
    "\ttransformed_img = img.copy()\n",
    "\tchange_brightness(brightness)\n",
    "\tchange_contrast(contrast_value)\n",
    "\trotate_matrix = cv.getRotationMatrix2D(center, angle_value, scale)\n",
    "\ttransformed_img = cv.warpAffine(transformed_img, rotate_matrix, (width, height))\n",
    "\tmatrix = cv.getPerspectiveTransform(\n",
    "\t\tnp.float32([[0, 0], [img.shape[1], 0], [img.shape[1], img.shape[0]], [0, img.shape[0]]]),\n",
    "\t\tnp.float32(point_list))\n",
    "\ttransformed_img = cv.warpPerspective(transformed_img, matrix, (img.shape[1], img.shape[0]), cv.INTER_CUBIC,\n",
    "\t\t\t\t\t\t\t\t\t\t borderMode=cv.BORDER_CONSTANT, borderValue=(0, 0, 0))\n",
    "\tupdate_Harris()\n",
    "\tupdate_Shi_tomachi()\n",
    "\n",
    "\n",
    "def change_brightness(brightness):\n",
    "\tglobal transformed_img\n",
    "\tif brightness != 0:\n",
    "\t\ttransformed_img = cv.addWeighted(transformed_img, (255 - brightness) / 255, transformed_img, 0, brightness)\n",
    "\n",
    "\n",
    "def change_contrast(contrast):\n",
    "\tglobal transformed_img\n",
    "\tif contrast != 0:\n",
    "\t\talpha = 131 * (contrast + 127) / (127 * (131 - contrast))\n",
    "\t\ttransformed_img = cv.addWeighted(transformed_img, alpha, transformed_img, 0, 127 * (1 - alpha))\n",
    "\n",
    "\n",
    "def change_brightness_size(val):\n",
    "\tglobal brightness\n",
    "\tbrightness = val\n",
    "\tupdate()\n",
    "\n",
    "\n",
    "def change_contrast_size(val):\n",
    "\tglobal contrast_value\n",
    "\tcontrast_value = val\n",
    "\tupdate()\n",
    "\n",
    "\n",
    "def change_rotate_angle(val):\n",
    "\tglobal angle_value\n",
    "\tangle_value = val\n",
    "\tupdate()\n",
    "\n",
    "\n",
    "def change_rotate_scale(val):\n",
    "\tglobal scale\n",
    "\tif val > 0:\n",
    "\t\tscale = val / 10.0\n",
    "\t\tupdate()\n",
    "\n",
    "\n",
    "def change_point_x_val(val):\n",
    "\tglobal point_list\n",
    "\t_, old_y = point_list[point_for_change]\n",
    "\tpoint_list[point_for_change] = (val, old_y)\n",
    "\tupdate()\n",
    "\n",
    "\n",
    "def change_point_y_val(val):\n",
    "\tglobal point_list\n",
    "\told_x, _ = point_list[point_for_change]\n",
    "\tpoint_list[point_for_change] = (old_x, val)\n",
    "\tupdate()"
   ],
   "metadata": {
    "collapsed": false
   }
  },
  {
   "cell_type": "markdown",
   "source": [
    "# Harris"
   ],
   "metadata": {
    "collapsed": false
   }
  },
  {
   "cell_type": "code",
   "execution_count": 5,
   "outputs": [],
   "source": [
    "def update_Harris():\n",
    "\tgray = cv.cvtColor(transformed_img, cv.COLOR_BGR2GRAY)\n",
    "\tcorners = cv.cornerHarris(gray, block_size, sobel_kernel_size, free_harris_param)\n",
    "\tharris_img = transformed_img.copy()\n",
    "\tharris_img[corners > 0.01 * corners.max()] = [0, 255, 0]\n",
    "\tcv.imshow('Harris', harris_img)\n",
    "\n",
    "\n",
    "def change_block_size(val):\n",
    "\tglobal block_size\n",
    "\tblock_size = val\n",
    "\tupdate_Harris()\n",
    "\n",
    "\n",
    "def change_sobel_kernel_size(val):\n",
    "\tglobal sobel_kernel_size\n",
    "\tif val % 2 == 0:\n",
    "\t\tval += 1\n",
    "\tsobel_kernel_size = val\n",
    "\tupdate_Harris()\n",
    "\n",
    "\n",
    "def change_free_harris_param(val):\n",
    "\tglobal free_harris_param\n",
    "\tif val > 0:\n",
    "\t\tfree_harris_param = val / 100\n",
    "\t\tupdate_Harris()"
   ],
   "metadata": {
    "collapsed": false
   }
  },
  {
   "cell_type": "markdown",
   "source": [
    "# Shi-Tomachi"
   ],
   "metadata": {
    "collapsed": false
   }
  },
  {
   "cell_type": "code",
   "execution_count": 6,
   "outputs": [],
   "source": [
    "def update_Shi_tomachi():\n",
    "\tgray = cv.cvtColor(transformed_img, cv.COLOR_BGR2GRAY)\n",
    "\tcorners = cv.goodFeaturesToTrack(gray, corners_count, corners_quality, minimal_distance,\n",
    "\t\t\t\t\t\t\t\t\t mask=cv.inRange(gray, 1, 255))\n",
    "\tshi_tomachi_img = transformed_img.copy()\n",
    "\tcorners_int = np.int0(corners)\n",
    "\tfor corner in corners_int:\n",
    "\t\tx, y = corner.ravel()\n",
    "\t\tcv.circle(shi_tomachi_img, (x,y), marker_size, 255, -1)\n",
    "\tcv.imshow('Shi-Tomachi', shi_tomachi_img)\n",
    "\n",
    "\n",
    "def change_corners_count(val):\n",
    "\tglobal corners_count\n",
    "\tif val > 0:\n",
    "\t\tcorners_count = val\n",
    "\t\tupdate_Shi_tomachi()\n",
    "\n",
    "\n",
    "def change_corners_quality(val):\n",
    "\tglobal corners_quality\n",
    "\tif val > 0:\n",
    "\t\tcorners_quality = val / 100.0\n",
    "\t\tupdate_Shi_tomachi()\n",
    "\n",
    "\n",
    "def change_minimal_distance(val):\n",
    "\tglobal minimal_distance\n",
    "\tminimal_distance = val\n",
    "\tupdate_Shi_tomachi()\n",
    "\n",
    "\n",
    "def change_res_col_shi(val):\n",
    "\tglobal show_gray_shi\n",
    "\tshow_gray_shi = val\n",
    "\tupdate_Shi_tomachi()\n",
    "\n",
    "\n",
    "def change_marker_size(val):\n",
    "\tglobal marker_size\n",
    "\tmarker_size = val\n",
    "\tupdate_Shi_tomachi()"
   ],
   "metadata": {
    "collapsed": false
   }
  },
  {
   "cell_type": "markdown",
   "source": [
    "# Let's go!"
   ],
   "metadata": {
    "collapsed": false
   }
  },
  {
   "cell_type": "code",
   "execution_count": 7,
   "outputs": [],
   "source": [
    "cv.namedWindow('Settings')\n",
    "cv.createTrackbar('Brightness', 'Settings', 0, 255, change_brightness_size)\n",
    "cv.createTrackbar('Contrast','Settings', 0, 128, change_contrast_size)\n",
    "cv.createTrackbar('Angle', 'Settings', 0, 360, change_rotate_angle)\n",
    "cv.createTrackbar('Scale', 'Settings', 10, 100, change_rotate_scale)\n",
    "cv.createTrackbar('X', 'Settings', 0, img.shape[1] - 1, change_point_x_val)\n",
    "cv.createTrackbar('Y', 'Settings', 0, img.shape[0] - 1, change_point_y_val)\n",
    "#Harris corners\n",
    "cv.imshow('Harris', harris_img)\n",
    "cv.createTrackbar('block size', 'Harris', 2, 50, change_block_size)\n",
    "cv.createTrackbar('kernel size', 'Harris', 1, 15, change_sobel_kernel_size)\n",
    "cv.createTrackbar('k', 'Harris', 1, 100, change_free_harris_param)\n",
    "#Shi tomachi corners\n",
    "cv.imshow('Shi-Tomachi', shi_tomachi_img)\n",
    "cv.createTrackbar('corners count', 'Shi-Tomachi', 80, 300, change_corners_count)\n",
    "cv.createTrackbar('quality', 'Shi-Tomachi', 5, 100, change_corners_quality)\n",
    "cv.createTrackbar('min distance', 'Shi-Tomachi', 5, 100, change_minimal_distance)\n",
    "cv.createTrackbar('Marker size', 'Shi-Tomachi', 2, 30, change_marker_size)\n",
    "\n",
    "cv.waitKey(0)\n",
    "cv.destroyAllWindows()"
   ],
   "metadata": {
    "collapsed": false
   }
  }
 ],
 "metadata": {
  "kernelspec": {
   "display_name": "Python 3",
   "language": "python",
   "name": "python3"
  },
  "language_info": {
   "codemirror_mode": {
    "name": "ipython",
    "version": 2
   },
   "file_extension": ".py",
   "mimetype": "text/x-python",
   "name": "python",
   "nbconvert_exporter": "python",
   "pygments_lexer": "ipython2",
   "version": "2.7.6"
  }
 },
 "nbformat": 4,
 "nbformat_minor": 0
}
