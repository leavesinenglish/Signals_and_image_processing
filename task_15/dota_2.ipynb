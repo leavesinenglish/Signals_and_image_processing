{
 "cells": [
  {
   "cell_type": "code",
   "execution_count": 52,
   "outputs": [],
   "source": [
    "import cv2 as cv\n",
    "import numpy as np\n",
    "from functools import cmp_to_key"
   ],
   "metadata": {
    "collapsed": false
   }
  },
  {
   "cell_type": "code",
   "execution_count": 53,
   "outputs": [],
   "source": [
    "time_region_width = 40\n",
    "\n",
    "class Number_in_res_timebox:\n",
    "    def __init__(self, number, box, is_colon=False):\n",
    "        self.number = number\n",
    "        self.box = box\n",
    "        self.is_colon = is_colon"
   ],
   "metadata": {
    "collapsed": false
   }
  },
  {
   "cell_type": "code",
   "execution_count": 54,
   "outputs": [],
   "source": [
    "def find_region(img, template):\n",
    "    w = template.shape[::-1][0]\n",
    "    h = template.shape[::-1][1]\n",
    "    res = cv.matchTemplate(img, template, cv.TM_CCOEFF_NORMED)\n",
    "    _, _, _, max_loc = cv.minMaxLoc(res)\n",
    "    return max_loc, (max_loc[0] + w, max_loc[1] + h), res\n",
    "\n",
    "\n",
    "def find_boxes(img, template, threshold=0.8):\n",
    "    w = template.shape[::-1][0]\n",
    "    h = template.shape[::-1][1]\n",
    "    res = cv.matchTemplate(img, template, cv.TM_CCOEFF_NORMED)\n",
    "    detected_boxes = []\n",
    "    loc = np.where(res >= threshold)\n",
    "    for pt in zip(*loc[::-1]):\n",
    "        detected_boxes.append((pt, (pt[0] + w, pt[1] + h)))\n",
    "    return detected_boxes\n",
    "\n",
    "\n",
    "def box_center(box):\n",
    "    return (box[0][0] + box[1][0]) * 0.5\n",
    "\n",
    "\n",
    "def compare(item1, item2):\n",
    "    if box_center(item1.box) < box_center(item2.box):\n",
    "        return -1\n",
    "    elif box_center(item1.box) > box_center(item2.box):\n",
    "        return 1\n",
    "    else:\n",
    "        return 0"
   ],
   "metadata": {
    "collapsed": false
   }
  },
  {
   "cell_type": "code",
   "execution_count": 55,
   "outputs": [],
   "source": [
    "image = cv.imread('results_2.jpg')\n",
    "gray_img = cv.cvtColor(image, cv.COLOR_BGR2GRAY)\n",
    "template = cv.imread('win_label.jpg', 0)\n",
    "colon = cv.imread('colon.jpg', 0)\n",
    "numbers = [cv.imread(\"0.jpg\", 0),\n",
    "           cv.imread(\"1.jpg\", 0),\n",
    "           cv.imread(\"2.jpg\", 0),\n",
    "           cv.imread(\"3.jpg\", 0),\n",
    "           cv.imread(\"4.jpg\", 0),\n",
    "           cv.imread(\"5.jpg\", 0),\n",
    "           cv.imread(\"6.jpg\", 0),\n",
    "           cv.imread(\"7.jpg\", 0),\n",
    "           cv.imread(\"8.jpg\", 0),\n",
    "           cv.imread(\"9.jpg\", 0)]"
   ],
   "metadata": {
    "collapsed": false
   }
  },
  {
   "cell_type": "code",
   "execution_count": 56,
   "outputs": [],
   "source": [
    "top_left, bottom_right, _ = find_region(gray_img, template)\n",
    "time_region = gray_img[top_left[1]: bottom_right[1], bottom_right[0]: bottom_right[0] + time_region_width]\n",
    "founded_number = []\n",
    "\n",
    "for idx, num in enumerate(numbers):\n",
    "    boxes = find_boxes(time_region, num)\n",
    "    for box in boxes:\n",
    "        founded_number.append(Number_in_res_timebox(idx, box))\n",
    "boxes = find_boxes(time_region, colon)\n",
    "for box in boxes:\n",
    "    founded_number.append(Number_in_res_timebox(-1, box, True))\n",
    "founded_number = sorted(founded_number, key=cmp_to_key(compare))\n",
    "time = ''\n",
    "for num in founded_number:\n",
    "    if num.is_colon:\n",
    "        time += ':'\n",
    "    else:\n",
    "        time += str(num.number)"
   ],
   "metadata": {
    "collapsed": false
   }
  },
  {
   "cell_type": "code",
   "execution_count": 57,
   "outputs": [
    {
     "name": "stdout",
     "output_type": "stream",
     "text": [
      "32:46\n"
     ]
    }
   ],
   "source": [
    "print(time)"
   ],
   "metadata": {
    "collapsed": false
   }
  }
 ],
 "metadata": {
  "kernelspec": {
   "display_name": "Python 3",
   "language": "python",
   "name": "python3"
  },
  "language_info": {
   "codemirror_mode": {
    "name": "ipython",
    "version": 2
   },
   "file_extension": ".py",
   "mimetype": "text/x-python",
   "name": "python",
   "nbconvert_exporter": "python",
   "pygments_lexer": "ipython2",
   "version": "2.7.6"
  }
 },
 "nbformat": 4,
 "nbformat_minor": 0
}
